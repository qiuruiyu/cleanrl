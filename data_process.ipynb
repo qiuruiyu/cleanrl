{
 "cells": [
  {
   "cell_type": "code",
   "execution_count": 2,
   "metadata": {},
   "outputs": [],
   "source": [
    "import pandas as pd \n",
    "import numpy as np"
   ]
  },
  {
   "cell_type": "code",
   "execution_count": 14,
   "metadata": {},
   "outputs": [
    {
     "data": {
      "text/html": [
       "<div>\n",
       "<style scoped>\n",
       "    .dataframe tbody tr th:only-of-type {\n",
       "        vertical-align: middle;\n",
       "    }\n",
       "\n",
       "    .dataframe tbody tr th {\n",
       "        vertical-align: top;\n",
       "    }\n",
       "\n",
       "    .dataframe thead th {\n",
       "        text-align: right;\n",
       "    }\n",
       "</style>\n",
       "<table border=\"1\" class=\"dataframe\">\n",
       "  <thead>\n",
       "    <tr style=\"text-align: right;\">\n",
       "      <th></th>\n",
       "      <th>mean_score</th>\n",
       "      <th>total_steps</th>\n",
       "      <th>std_score</th>\n",
       "      <th>max_score</th>\n",
       "      <th>min_score</th>\n",
       "    </tr>\n",
       "  </thead>\n",
       "  <tbody>\n",
       "    <tr>\n",
       "      <th>0</th>\n",
       "      <td>-4016.3816</td>\n",
       "      <td>7500</td>\n",
       "      <td>0.0</td>\n",
       "      <td>-4016.3816</td>\n",
       "      <td>-4016.3816</td>\n",
       "    </tr>\n",
       "    <tr>\n",
       "      <th>1</th>\n",
       "      <td>-4449.2630</td>\n",
       "      <td>7500</td>\n",
       "      <td>0.0</td>\n",
       "      <td>-4449.2630</td>\n",
       "      <td>-4449.2630</td>\n",
       "    </tr>\n",
       "    <tr>\n",
       "      <th>2</th>\n",
       "      <td>-4660.2040</td>\n",
       "      <td>7500</td>\n",
       "      <td>0.0</td>\n",
       "      <td>-4660.2040</td>\n",
       "      <td>-4660.2040</td>\n",
       "    </tr>\n",
       "    <tr>\n",
       "      <th>3</th>\n",
       "      <td>-4400.1290</td>\n",
       "      <td>7500</td>\n",
       "      <td>0.0</td>\n",
       "      <td>-4400.1290</td>\n",
       "      <td>-4400.1290</td>\n",
       "    </tr>\n",
       "    <tr>\n",
       "      <th>4</th>\n",
       "      <td>-4632.8105</td>\n",
       "      <td>7500</td>\n",
       "      <td>0.0</td>\n",
       "      <td>-4632.8105</td>\n",
       "      <td>-4632.8105</td>\n",
       "    </tr>\n",
       "  </tbody>\n",
       "</table>\n",
       "</div>"
      ],
      "text/plain": [
       "   mean_score  total_steps  std_score  max_score  min_score\n",
       "0  -4016.3816         7500        0.0 -4016.3816 -4016.3816\n",
       "1  -4449.2630         7500        0.0 -4449.2630 -4449.2630\n",
       "2  -4660.2040         7500        0.0 -4660.2040 -4660.2040\n",
       "3  -4400.1290         7500        0.0 -4400.1290 -4400.1290\n",
       "4  -4632.8105         7500        0.0 -4632.8105 -4632.8105"
      ]
     },
     "execution_count": 14,
     "metadata": {},
     "output_type": "execute_result"
    }
   ],
   "source": [
    "data = pd.read_csv('./runs/ppo_continuous_action_asu_all_features-0/evaluator.csv')\n",
    "data.head()"
   ]
  },
  {
   "cell_type": "code",
   "execution_count": 23,
   "metadata": {},
   "outputs": [],
   "source": [
    "grouped_data = data.groupby('total_steps')['mean_score'].agg(['mean', 'std', 'max', 'min'])\n",
    "grouped_data = grouped_data.reset_index().rename(columns={\n",
    "    'mean': 'mean_score',\n",
    "    'std': 'std_score',\n",
    "    'max': 'max_score',\n",
    "    'min': 'min_score',\n",
    "})\n",
    "\n",
    "# grouped_data['total_steps'], grouped_data['mean_score'] = grouped_data['mean_score'], grouped_data['total_steps']\n",
    "grouped_data = grouped_data[['mean_score', 'total_steps', 'std_score', 'max_score', 'min_score']]\n",
    "grouped_data\n",
    "grouped_data.to_csv('./evaluator.csv', index=False)"
   ]
  }
 ],
 "metadata": {
  "kernelspec": {
   "display_name": "rl",
   "language": "python",
   "name": "python3"
  },
  "language_info": {
   "codemirror_mode": {
    "name": "ipython",
    "version": 3
   },
   "file_extension": ".py",
   "mimetype": "text/x-python",
   "name": "python",
   "nbconvert_exporter": "python",
   "pygments_lexer": "ipython3",
   "version": "3.7.13"
  },
  "orig_nbformat": 4
 },
 "nbformat": 4,
 "nbformat_minor": 2
}
