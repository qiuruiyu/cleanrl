{
 "cells": [
  {
   "cell_type": "code",
   "execution_count": 19,
   "metadata": {
    "collapsed": true,
    "pycharm": {
     "is_executing": true
    }
   },
   "outputs": [],
   "source": [
    "import numpy as np\n",
    "from cleanrl.ppo_continuous_action import Agent\n",
    "from envs.shell import shell\n",
    "from cleanrl.ppo_continuous_action import make_env\n",
    "import gymnasium as gym\n",
    "import torch\n",
    "import matplotlib.pyplot as plt "
   ]
  },
  {
   "cell_type": "code",
   "execution_count": 20,
   "metadata": {},
   "outputs": [],
   "source": [
    "envs_eval = gym.vector.SyncVectorEnv(\n",
    "    [make_env(1, i, False, 1, 0.99) for i in range(10)])\n",
    "\n",
    "q = envs_eval.envs[0].q\n",
    "r = envs_eval.envs[0].r"
   ]
  },
  {
   "cell_type": "code",
   "execution_count": 21,
   "metadata": {},
   "outputs": [
    {
     "name": "stdout",
     "output_type": "stream",
     "text": [
      "----------- EVALUATION ---------------\n",
      "EPISODE REWARD:  -17.812046\n",
      "--------------------------------------\n",
      "(100, 10, 3) (100, 10, 3)\n"
     ]
    }
   ],
   "source": [
    "y = [] \n",
    "du = [] \n",
    "\n",
    "envs_eval = gym.vector.SyncVectorEnv(\n",
    "    [make_env(1, i, False, 1, 0.99) for i in range(10)])\n",
    "agent = Agent(envs_eval)\n",
    "agent.load_state_dict(torch.load('./models/HalfCheetah-v4__ppo_continuous_action__1234__1687702659/best_agent.pt'))\n",
    "\n",
    "next_obs_eval, _ = envs_eval.reset() \n",
    "returns_eval = [] \n",
    "while len(returns_eval) < 10:\n",
    "    while True:\n",
    "        y.append(np.array([envs_eval.envs[i].y for i in range(10)]).squeeze())\n",
    "        du.append(np.array([envs_eval.envs[i].du for i in range(10)]).squeeze())\n",
    "        \n",
    "        with torch.no_grad():\n",
    "            # mean = np.array([envs_eval.envs[i].obs_rms.mean for i in range(10)])\n",
    "            # var = np.array([envs_eval.envs[i].obs_rms.var for i in range(10)])\n",
    "            # next_obs_eval = next_obs_eval * np.sqrt(var + 1e-8) + mean \n",
    "            # a_eval, _, _, _ = agent.get_action_and_value(torch.FloatTensor(next_obs_eval))\n",
    "            a_eval = agent.actor_mean(torch.FloatTensor(next_obs_eval))\n",
    "            next_obs_eval, reward_eval, terminated_eval, truncated_eval, infos_eval = envs_eval.step(a_eval.cpu().numpy())\n",
    "        done_eval = np.logical_or(terminated_eval, truncated_eval)[0]\n",
    "\n",
    "        if \"final_info\" not in infos_eval:\n",
    "            continue\n",
    "        for info in infos_eval[\"final_info\"]:\n",
    "            if info is None:\n",
    "                continue\n",
    "            # print(f\"eval_episodic_return={info['episode']['r']}\")\n",
    "            returns_eval.append(info[\"episode\"][\"r\"])\n",
    "        if done_eval:\n",
    "            break \n",
    "print('----------- EVALUATION ---------------')\n",
    "print('EPISODE REWARD: ', np.average(returns_eval))\n",
    "print('--------------------------------------')  \n",
    "\n",
    "y = np.array(y)\n",
    "du = np.array(du)\n",
    "print(y.shape, du.shape)"
   ]
  },
  {
   "cell_type": "code",
   "execution_count": 24,
   "metadata": {},
   "outputs": [
    {
     "data": {
      "text/plain": [
       "-17.803604670746576"
      ]
     },
     "execution_count": 24,
     "metadata": {},
     "output_type": "execute_result"
    }
   ],
   "source": [
    "y0 = -np.sum((y[1:, 0, :] - 1)**2)\n",
    "du0 = -np.sum((du[:, 0, :].dot(r.T))**2)\n",
    "y0 + du0"
   ]
  },
  {
   "cell_type": "code",
   "execution_count": 25,
   "metadata": {},
   "outputs": [
    {
     "data": {
      "text/plain": [
       "array([[0.        , 0.        , 0.        ],\n",
       "       [0.        , 0.        , 0.06834322],\n",
       "       [0.        , 0.        , 0.19205522],\n",
       "       [0.        , 0.        , 0.36062466],\n",
       "       [0.        , 0.01789428, 0.56553572],\n",
       "       [0.        , 0.09621659, 0.77791729],\n",
       "       [0.        , 0.24010966, 0.91645693],\n",
       "       [0.00983136, 0.42545698, 1.00746028],\n",
       "       [0.06278721, 0.62767717, 1.06351707],\n",
       "       [0.15562271, 0.82271417, 1.07483031],\n",
       "       [0.28533793, 0.97012363, 1.04111908],\n",
       "       [0.43587244, 1.07142963, 1.01057266],\n",
       "       [0.59037508, 1.12265614, 1.00110433],\n",
       "       [0.71926647, 1.1232859 , 0.99517165],\n",
       "       [0.81942202, 1.09102618, 0.97656989],\n",
       "       [0.88676334, 1.04620751, 0.98516493],\n",
       "       [0.92592034, 1.00898741, 0.99449174],\n",
       "       [0.94866765, 0.9934606 , 0.99653995],\n",
       "       [0.96049846, 0.99017669, 0.99657704],\n",
       "       [0.96647699, 0.99522775, 0.9878936 ],\n",
       "       [0.97522152, 0.99998096, 0.99235649],\n",
       "       [0.9786523 , 1.00219964, 0.99780402],\n",
       "       [0.98624795, 1.00477416, 0.9987337 ],\n",
       "       [0.9902137 , 1.007682  , 0.99749915],\n",
       "       [0.99363996, 1.008699  , 0.99845413],\n",
       "       [0.99507189, 1.00746842, 0.99918388],\n",
       "       [0.99446991, 1.00321258, 0.99817447],\n",
       "       [0.99472067, 0.99807621, 0.99602068],\n",
       "       [0.99590899, 0.99672597, 0.99372272],\n",
       "       [0.99692053, 0.99770636, 0.99211519],\n",
       "       [0.99592799, 0.99859199, 0.99033274],\n",
       "       [0.99553311, 0.99833431, 0.99069009],\n",
       "       [0.99571069, 0.99940447, 0.9908749 ],\n",
       "       [0.99615383, 1.00183484, 0.99097654],\n",
       "       [0.99527578, 1.00344462, 0.990647  ],\n",
       "       [0.99502662, 1.00459164, 0.99113291],\n",
       "       [0.99468823, 1.00582958, 0.99273159],\n",
       "       [0.99473521, 1.00672563, 0.99420229],\n",
       "       [0.99615544, 1.00754964, 0.99473367],\n",
       "       [0.99841874, 1.00827284, 0.99480659],\n",
       "       [1.00007262, 1.00799781, 0.99490779],\n",
       "       [1.00125017, 1.00672448, 0.99495552],\n",
       "       [1.00170016, 1.00542634, 0.99530348],\n",
       "       [1.00068467, 1.00470552, 0.9954288 ],\n",
       "       [0.99914512, 1.00435172, 0.99551928],\n",
       "       [0.99789963, 1.00377064, 0.99582266],\n",
       "       [0.99726129, 1.0026799 , 0.99615867],\n",
       "       [0.99669276, 1.0014964 , 0.99656091],\n",
       "       [0.99626807, 1.00068337, 0.99700861],\n",
       "       [0.99606863, 1.00041957, 0.99721975],\n",
       "       [0.9959957 , 1.00032559, 0.9970169 ],\n",
       "       [0.99579294, 1.00011639, 0.9965846 ],\n",
       "       [0.99536009, 0.99990042, 0.99623412],\n",
       "       [0.99461002, 0.99980351, 0.99629653],\n",
       "       [0.99374587, 0.99981214, 0.99664668],\n",
       "       [0.9932799 , 0.99986716, 0.99704714],\n",
       "       [0.99331912, 0.9999633 , 0.99734834],\n",
       "       [0.99371114, 1.00000443, 0.99760195],\n",
       "       [0.99432791, 0.99993326, 0.99785244],\n",
       "       [0.99506062, 0.9998422 , 0.99801954],\n",
       "       [0.99561272, 0.9998075 , 0.99806612],\n",
       "       [0.99582583, 0.99983391, 0.99805847],\n",
       "       [0.99578092, 0.99985114, 0.99814788],\n",
       "       [0.99561808, 0.99974365, 0.99835774],\n",
       "       [0.99546066, 0.99948908, 0.99865891],\n",
       "       [0.99541591, 0.99919272, 0.99899669],\n",
       "       [0.99551616, 0.9989553 , 0.99931544],\n",
       "       [0.99571714, 0.99876438, 0.99954154],\n",
       "       [0.99596851, 0.99857677, 0.99963608],\n",
       "       [0.99616911, 0.99840161, 0.99961978],\n",
       "       [0.99619035, 0.99826755, 0.99955654],\n",
       "       [0.99597262, 0.99817245, 0.99954009],\n",
       "       [0.99559815, 0.9980965 , 0.99960756],\n",
       "       [0.99519451, 0.99803455, 0.99974635],\n",
       "       [0.99486139, 0.99798379, 0.99992036],\n",
       "       [0.99467397, 0.99794868, 1.00009902],\n",
       "       [0.99465058, 0.99793433, 1.00024856],\n",
       "       [0.99473161, 0.99793726, 1.00033956],\n",
       "       [0.99481924, 0.99796123, 1.00036624],\n",
       "       [0.9948335 , 0.99801457, 1.00035662],\n",
       "       [0.99472722, 0.9980874 , 1.00035001],\n",
       "       [0.994359  , 0.99797135, 1.00035377],\n",
       "       [0.99379987, 0.99766093, 1.00042014],\n",
       "       [0.99312652, 0.99717379, 1.00056247],\n",
       "       [0.99248293, 0.99675758, 1.00081022],\n",
       "       [0.99191938, 0.99643421, 1.00107893],\n",
       "       [0.99154012, 0.99627434, 1.00128632],\n",
       "       [0.99129979, 0.99633782, 1.00138084],\n",
       "       [0.99115486, 0.99666849, 1.00136069],\n",
       "       [0.99109026, 0.99723492, 1.00126345],\n",
       "       [0.99109594, 0.99794885, 1.00112996],\n",
       "       [0.99121116, 0.99875717, 1.00102317],\n",
       "       [0.99146331, 0.9995821 , 1.00097705],\n",
       "       [0.99179215, 1.00013407, 1.00096204],\n",
       "       [0.99223085, 1.00042414, 1.0009937 ],\n",
       "       [0.99268253, 1.00043395, 1.00105673],\n",
       "       [0.99311348, 1.00029395, 1.00115871],\n",
       "       [0.99342151, 1.0000262 , 1.00127254],\n",
       "       [0.99354708, 0.99967643, 1.00138239],\n",
       "       [0.99346857, 0.99926167, 1.00148166]])"
      ]
     },
     "execution_count": 25,
     "metadata": {},
     "output_type": "execute_result"
    }
   ],
   "source": [
    "y[:, 0, :]"
   ]
  },
  {
   "cell_type": "code",
   "execution_count": 26,
   "metadata": {},
   "outputs": [
    {
     "data": {
      "image/png": "[encoded data removed]",
      "text/plain": [
       "<Figure size 1200x400 with 1 Axes>"
      ]
     },
     "metadata": {},
     "output_type": "display_data"
    }
   ],
   "source": [
    "figure = plt.figure(figsize=(12, 4), dpi=100)\n",
    "plt.plot(y[:, 1, :])\n",
    "# plt.plot(du[:, 0, :])\n",
    "plt.grid()"
   ]
  },
  {
   "cell_type": "code",
   "execution_count": null,
   "metadata": {},
   "outputs": [],
   "source": []
  }
 ],
 "metadata": {
  "kernelspec": {
   "display_name": "Python 3",
   "language": "python",
   "name": "python3"
  },
  "language_info": {
   "codemirror_mode": {
    "name": "ipython",
    "version": 3
   },
   "file_extension": ".py",
   "mimetype": "text/x-python",
   "name": "python",
   "nbconvert_exporter": "python",
   "pygments_lexer": "ipython3",
   "version": "3.8.16"
  }
 },
 "nbformat": 4,
 "nbformat_minor": 0
}
