{
 "cells": [
  {
   "cell_type": "code",
   "execution_count": 2,
   "metadata": {},
   "outputs": [],
   "source": [
    "from __future__ import division\n",
    "import numpy as np \n",
    "import pyomo.environ as pyo"
   ]
  },
  {
   "cell_type": "code",
   "execution_count": 6,
   "metadata": {},
   "outputs": [],
   "source": [
    "model = pyo.ConcreteModel()\n",
    "\n",
    "model.x = pyo.Var([1,2], domain=pyo.NonNegativeReals)\n",
    "\n",
    "model.OBJ = pyo.Objective(expr = 2*model.x[1] + 3*model.x[2])\n",
    "\n",
    "model.Constraint1 = pyo.Constraint(expr = 3*model.x[1] + 4*model.x[2] >= 1)"
   ]
  },
  {
   "cell_type": "code",
   "execution_count": 11,
   "metadata": {},
   "outputs": [
    {
     "name": "stdout",
     "output_type": "stream",
     "text": [
      "ERROR: evaluating object as numeric value: m\n",
      "        (object: <class 'pyomo.core.base.param.ScalarParam'>)\n",
      "    Error retrieving immutable Param value (m):\n",
      "            The Param value is undefined and no default value is specified.\n"
     ]
    },
    {
     "ename": "ValueError",
     "evalue": "Error retrieving immutable Param value (m):\n\tThe Param value is undefined and no default value is specified.",
     "output_type": "error",
     "traceback": [
      "\u001b[0;31m---------------------------------------------------------------------------\u001b[0m",
      "\u001b[0;31mValueError\u001b[0m                                Traceback (most recent call last)",
      "\u001b[1;32m/Users/joseph/Library/CloudStorage/OneDrive-个人/personal/5/Programs/RL/cleanrl/envs/parafoil/pyomo_test.ipynb 单元格 3\u001b[0m line \u001b[0;36m4\n\u001b[1;32m      <a href='vscode-notebook-cell:/Users/joseph/Library/CloudStorage/OneDrive-%E4%B8%AA%E4%BA%BA/personal/5/Programs/RL/cleanrl/envs/parafoil/pyomo_test.ipynb#W3sZmlsZQ%3D%3D?line=1'>2</a>\u001b[0m model\u001b[39m.\u001b[39mm \u001b[39m=\u001b[39m pyo\u001b[39m.\u001b[39mParam(within\u001b[39m=\u001b[39mpyo\u001b[39m.\u001b[39mNonNegativeIntegers)\n\u001b[1;32m      <a href='vscode-notebook-cell:/Users/joseph/Library/CloudStorage/OneDrive-%E4%B8%AA%E4%BA%BA/personal/5/Programs/RL/cleanrl/envs/parafoil/pyomo_test.ipynb#W3sZmlsZQ%3D%3D?line=2'>3</a>\u001b[0m model\u001b[39m.\u001b[39mn \u001b[39m=\u001b[39m pyo\u001b[39m.\u001b[39mParam(within\u001b[39m=\u001b[39mpyo\u001b[39m.\u001b[39mNonNegativeIntegers)\n\u001b[0;32m----> <a href='vscode-notebook-cell:/Users/joseph/Library/CloudStorage/OneDrive-%E4%B8%AA%E4%BA%BA/personal/5/Programs/RL/cleanrl/envs/parafoil/pyomo_test.ipynb#W3sZmlsZQ%3D%3D?line=3'>4</a>\u001b[0m model\u001b[39m.\u001b[39mI \u001b[39m=\u001b[39m pyo\u001b[39m.\u001b[39;49mRangeSet(\u001b[39m1\u001b[39;49m, model\u001b[39m.\u001b[39;49mm)\n\u001b[1;32m      <a href='vscode-notebook-cell:/Users/joseph/Library/CloudStorage/OneDrive-%E4%B8%AA%E4%BA%BA/personal/5/Programs/RL/cleanrl/envs/parafoil/pyomo_test.ipynb#W3sZmlsZQ%3D%3D?line=4'>5</a>\u001b[0m model\u001b[39m.\u001b[39mJ \u001b[39m=\u001b[39m pyo\u001b[39m.\u001b[39mRangeSet(\u001b[39m1\u001b[39m, model\u001b[39m.\u001b[39mn)\n",
      "File \u001b[0;32m~/miniforge3/envs/ppo/lib/python3.8/site-packages/pyomo/core/base/set.py:2836\u001b[0m, in \u001b[0;36mRangeSet.__new__\u001b[0;34m(cls, *args, **kwds)\u001b[0m\n\u001b[1;32m   2832\u001b[0m         \u001b[39mcontinue\u001b[39;00m\n\u001b[1;32m   2833\u001b[0m     \u001b[39melse\u001b[39;00m:\n\u001b[1;32m   2834\u001b[0m         \u001b[39m# \"Peek\" at constructed components to try and\u001b[39;00m\n\u001b[1;32m   2835\u001b[0m         \u001b[39m# infer if this component will be Infinite\u001b[39;00m\n\u001b[0;32m-> 2836\u001b[0m         _ \u001b[39m=\u001b[39m value(_)\n\u001b[1;32m   2837\u001b[0m \u001b[39mif\u001b[39;00m i \u001b[39m<\u001b[39m \u001b[39m2\u001b[39m:\n\u001b[1;32m   2838\u001b[0m     \u001b[39mif\u001b[39;00m _ \u001b[39min\u001b[39;00m {\u001b[39mNone\u001b[39;00m, _inf, \u001b[39m-\u001b[39m_inf}:\n",
      "File \u001b[0;32m~/miniforge3/envs/ppo/lib/python3.8/site-packages/pyomo/common/numeric_types.py:245\u001b[0m, in \u001b[0;36mvalue\u001b[0;34m(obj, exception)\u001b[0m\n\u001b[1;32m    240\u001b[0m \u001b[39mif\u001b[39;00m exception:\n\u001b[1;32m    241\u001b[0m     \u001b[39m#\u001b[39;00m\n\u001b[1;32m    242\u001b[0m     \u001b[39m# Here, we try to catch the exception\u001b[39;00m\n\u001b[1;32m    243\u001b[0m     \u001b[39m#\u001b[39;00m\n\u001b[1;32m    244\u001b[0m     \u001b[39mtry\u001b[39;00m:\n\u001b[0;32m--> 245\u001b[0m         tmp \u001b[39m=\u001b[39m obj(exception\u001b[39m=\u001b[39;49m\u001b[39mTrue\u001b[39;49;00m)\n\u001b[1;32m    246\u001b[0m         \u001b[39mif\u001b[39;00m tmp \u001b[39mis\u001b[39;00m \u001b[39mNone\u001b[39;00m:\n\u001b[1;32m    247\u001b[0m             \u001b[39mraise\u001b[39;00m \u001b[39mValueError\u001b[39;00m(\n\u001b[1;32m    248\u001b[0m                 \u001b[39m\"\u001b[39m\u001b[39mNo value for uninitialized NumericValue object \u001b[39m\u001b[39m%s\u001b[39;00m\u001b[39m\"\u001b[39m \u001b[39m%\u001b[39m (obj\u001b[39m.\u001b[39mname,)\n\u001b[1;32m    249\u001b[0m             )\n",
      "File \u001b[0;32m~/miniforge3/envs/ppo/lib/python3.8/site-packages/pyomo/core/base/param.py:883\u001b[0m, in \u001b[0;36mScalarParam.__call__\u001b[0;34m(self, exception)\u001b[0m\n\u001b[1;32m    879\u001b[0m             \u001b[39mself\u001b[39m[\u001b[39mNone\u001b[39;00m]\n\u001b[1;32m    880\u001b[0m         \u001b[39melse\u001b[39;00m:\n\u001b[1;32m    881\u001b[0m             \u001b[39m# Immutable Param defaults never get added to the\u001b[39;00m\n\u001b[1;32m    882\u001b[0m             \u001b[39m# _data dict\u001b[39;00m\n\u001b[0;32m--> 883\u001b[0m             \u001b[39mreturn\u001b[39;00m \u001b[39mself\u001b[39;49m[\u001b[39mNone\u001b[39;49;00m]\n\u001b[1;32m    884\u001b[0m     \u001b[39mreturn\u001b[39;00m \u001b[39msuper\u001b[39m(ScalarParam, \u001b[39mself\u001b[39m)\u001b[39m.\u001b[39m\u001b[39m__call__\u001b[39m(exception\u001b[39m=\u001b[39mexception)\n\u001b[1;32m    885\u001b[0m \u001b[39mif\u001b[39;00m exception:\n",
      "File \u001b[0;32m~/miniforge3/envs/ppo/lib/python3.8/site-packages/pyomo/core/base/indexed_component.py:660\u001b[0m, in \u001b[0;36mIndexedComponent.__getitem__\u001b[0;34m(self, index)\u001b[0m\n\u001b[1;32m    655\u001b[0m     \u001b[39m#\u001b[39;00m\n\u001b[1;32m    656\u001b[0m     \u001b[39m# Call the _getitem_when_not_present helper to retrieve/return\u001b[39;00m\n\u001b[1;32m    657\u001b[0m     \u001b[39m# the default value\u001b[39;00m\n\u001b[1;32m    658\u001b[0m     \u001b[39m#\u001b[39;00m\n\u001b[1;32m    659\u001b[0m     \u001b[39mif\u001b[39;00m obj \u001b[39mis\u001b[39;00m _NotFound:\n\u001b[0;32m--> 660\u001b[0m         \u001b[39mreturn\u001b[39;00m \u001b[39mself\u001b[39;49m\u001b[39m.\u001b[39;49m_getitem_when_not_present(index)\n\u001b[1;32m    662\u001b[0m \u001b[39mreturn\u001b[39;00m obj\n",
      "File \u001b[0;32m~/miniforge3/envs/ppo/lib/python3.8/site-packages/pyomo/core/base/param.py:579\u001b[0m, in \u001b[0;36mParam._getitem_when_not_present\u001b[0;34m(self, index)\u001b[0m\n\u001b[1;32m    577\u001b[0m     \u001b[39melse\u001b[39;00m:\n\u001b[1;32m    578\u001b[0m         idx_str \u001b[39m=\u001b[39m \u001b[39m'\u001b[39m\u001b[39m%s\u001b[39;00m\u001b[39m'\u001b[39m \u001b[39m%\u001b[39m (\u001b[39mself\u001b[39m\u001b[39m.\u001b[39mname,)\n\u001b[0;32m--> 579\u001b[0m     \u001b[39mraise\u001b[39;00m \u001b[39mValueError\u001b[39;00m(\n\u001b[1;32m    580\u001b[0m         \u001b[39m\"\u001b[39m\u001b[39mError retrieving immutable Param value (\u001b[39m\u001b[39m%s\u001b[39;00m\u001b[39m):\u001b[39m\u001b[39m\\n\u001b[39;00m\u001b[39m\\t\u001b[39;00m\u001b[39mThe Param \u001b[39m\u001b[39m\"\u001b[39m\n\u001b[1;32m    581\u001b[0m         \u001b[39m\"\u001b[39m\u001b[39mvalue is undefined and no default value is specified.\u001b[39m\u001b[39m\"\u001b[39m \u001b[39m%\u001b[39m (idx_str,)\n\u001b[1;32m    582\u001b[0m     )\n\u001b[1;32m    584\u001b[0m _default_type \u001b[39m=\u001b[39m \u001b[39mtype\u001b[39m(val)\n\u001b[1;32m    585\u001b[0m _check_value_domain \u001b[39m=\u001b[39m \u001b[39mTrue\u001b[39;00m\n",
      "\u001b[0;31mValueError\u001b[0m: Error retrieving immutable Param value (m):\n\tThe Param value is undefined and no default value is specified."
     ]
    }
   ],
   "source": [
    "model = pyo.ConcreteModel()\n",
    "model.m = pyo.Param(within=pyo.NonNegativeIntegers)\n",
    "model.n = pyo.Param(within=pyo.NonNegativeIntegers)\n",
    "model.I = pyo.RangeSet(1, model.m)\n",
    "model.J = pyo.RangeSet(1, model.n)"
   ]
  },
  {
   "cell_type": "markdown",
   "metadata": {},
   "source": []
  }
 ],
 "metadata": {
  "kernelspec": {
   "display_name": "ppo",
   "language": "python",
   "name": "python3"
  },
  "language_info": {
   "codemirror_mode": {
    "name": "ipython",
    "version": 3
   },
   "file_extension": ".py",
   "mimetype": "text/x-python",
   "name": "python",
   "nbconvert_exporter": "python",
   "pygments_lexer": "ipython3",
   "version": "3.8.16"
  },
  "orig_nbformat": 4
 },
 "nbformat": 4,
 "nbformat_minor": 2
}
